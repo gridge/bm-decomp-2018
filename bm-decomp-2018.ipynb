{
 "cells": [
  {
   "cell_type": "code",
   "execution_count": 1,
   "metadata": {},
   "outputs": [],
   "source": [
    "import pandas as pd\n",
    "import numpy as np\n",
    "import matplotlib.pyplot as plt\n",
    "import math\n",
    "import matplotlib as mpl\n",
    "#plt.style.use('ggplot')"
   ]
  },
  {
   "cell_type": "markdown",
   "metadata": {},
   "source": [
    "## Load data"
   ]
  },
  {
   "cell_type": "code",
   "execution_count": 2,
   "metadata": {},
   "outputs": [],
   "source": [
    "initialDataTypes={'Shift':np.int8, 'Lane':str, 'Clicker':str, 'Veto':str, 'X1':str, 'X2a':str, 'X2b':str, 'X3':str, 'X4':str, 'X5a':str, 'X5b':str, 'DataEntryPerson':np.int8}\n",
    "rawData = pd.read_csv(\"data/MergedData_DecomNov18.csv\",dtype=initialDataTypes)"
   ]
  },
  {
   "cell_type": "code",
   "execution_count": 3,
   "metadata": {},
   "outputs": [
    {
     "name": "stdout",
     "output_type": "stream",
     "text": [
      "Adjusting Shift to <class 'numpy.int8'>\n",
      "Adjusting Lane to <class 'str'>\n",
      "Adjusting Clicker to <class 'str'>\n",
      "Adjusting Veto to <class 'str'>\n",
      "Adjusting X1 to <class 'str'>\n",
      "Adjusting X2a to <class 'str'>\n",
      "Adjusting X2b to <class 'str'>\n",
      "Adjusting X3 to <class 'str'>\n",
      "Adjusting X4 to <class 'str'>\n",
      "Adjusting X5a to <class 'str'>\n",
      "Adjusting X5b to <class 'str'>\n",
      "Adjusting DataEntryPerson to <class 'numpy.int8'>\n"
     ]
    }
   ],
   "source": [
    "for col in initialDataTypes:\n",
    "    print(\"Adjusting %s to %s\" % (col, str(initialDataTypes[col])))\n",
    "    rawData[col] = rawData[col].astype(initialDataTypes[col])"
   ]
  },
  {
   "cell_type": "code",
   "execution_count": 4,
   "metadata": {},
   "outputs": [
    {
     "name": "stdout",
     "output_type": "stream",
     "text": [
      "Size of dataset: 678\n"
     ]
    }
   ],
   "source": [
    "print(\"Size of dataset: %d\" % len(rawData))"
   ]
  },
  {
   "cell_type": "code",
   "execution_count": 5,
   "metadata": {},
   "outputs": [
    {
     "data": {
      "text/plain": [
       "Shift                int8\n",
       "Lane               object\n",
       "Clicker            object\n",
       "Veto               object\n",
       "X1                 object\n",
       "X2a                object\n",
       "X2b                object\n",
       "X3                 object\n",
       "X4                 object\n",
       "X5a                object\n",
       "X5b                object\n",
       "DataEntryPerson      int8\n",
       "dtype: object"
      ]
     },
     "execution_count": 5,
     "metadata": {},
     "output_type": "execute_result"
    }
   ],
   "source": [
    "rawData.dtypes #check of initial type recognition before cleaning"
   ]
  },
  {
   "cell_type": "code",
   "execution_count": 6,
   "metadata": {
    "scrolled": true
   },
   "outputs": [
    {
     "data": {
      "text/html": [
       "<div>\n",
       "<style scoped>\n",
       "    .dataframe tbody tr th:only-of-type {\n",
       "        vertical-align: middle;\n",
       "    }\n",
       "\n",
       "    .dataframe tbody tr th {\n",
       "        vertical-align: top;\n",
       "    }\n",
       "\n",
       "    .dataframe thead th {\n",
       "        text-align: right;\n",
       "    }\n",
       "</style>\n",
       "<table border=\"1\" class=\"dataframe\">\n",
       "  <thead>\n",
       "    <tr style=\"text-align: right;\">\n",
       "      <th></th>\n",
       "      <th>Shift</th>\n",
       "      <th>Lane</th>\n",
       "      <th>Clicker</th>\n",
       "      <th>Veto</th>\n",
       "      <th>X1</th>\n",
       "      <th>X2a</th>\n",
       "      <th>X2b</th>\n",
       "      <th>X3</th>\n",
       "      <th>X4</th>\n",
       "      <th>X5a</th>\n",
       "      <th>X5b</th>\n",
       "      <th>DataEntryPerson</th>\n",
       "    </tr>\n",
       "  </thead>\n",
       "  <tbody>\n",
       "    <tr>\n",
       "      <th>0</th>\n",
       "      <td>5</td>\n",
       "      <td>o</td>\n",
       "      <td>1280</td>\n",
       "      <td>.</td>\n",
       "      <td>82</td>\n",
       "      <td>2</td>\n",
       "      <td>Oakland</td>\n",
       "      <td>2</td>\n",
       "      <td>1</td>\n",
       "      <td>2</td>\n",
       "      <td>9</td>\n",
       "      <td>1</td>\n",
       "    </tr>\n",
       "    <tr>\n",
       "      <th>1</th>\n",
       "      <td>5</td>\n",
       "      <td>o</td>\n",
       "      <td>1300</td>\n",
       "      <td>.</td>\n",
       "      <td>66</td>\n",
       "      <td>2</td>\n",
       "      <td>Castro Valley</td>\n",
       "      <td>2</td>\n",
       "      <td>1</td>\n",
       "      <td>2</td>\n",
       "      <td>10</td>\n",
       "      <td>1</td>\n",
       "    </tr>\n",
       "    <tr>\n",
       "      <th>2</th>\n",
       "      <td>5</td>\n",
       "      <td>o</td>\n",
       "      <td>1310</td>\n",
       "      <td>.</td>\n",
       "      <td>.</td>\n",
       "      <td>2</td>\n",
       "      <td>.</td>\n",
       "      <td>2</td>\n",
       "      <td>1</td>\n",
       "      <td>1</td>\n",
       "      <td>1</td>\n",
       "      <td>1</td>\n",
       "    </tr>\n",
       "    <tr>\n",
       "      <th>3</th>\n",
       "      <td>5</td>\n",
       "      <td>o</td>\n",
       "      <td>1330</td>\n",
       "      <td>.</td>\n",
       "      <td>84</td>\n",
       "      <td>1</td>\n",
       "      <td>.</td>\n",
       "      <td>1</td>\n",
       "      <td>1</td>\n",
       "      <td>2</td>\n",
       "      <td>9</td>\n",
       "      <td>1</td>\n",
       "    </tr>\n",
       "    <tr>\n",
       "      <th>4</th>\n",
       "      <td>5</td>\n",
       "      <td>o</td>\n",
       "      <td>1340</td>\n",
       "      <td>.</td>\n",
       "      <td>88</td>\n",
       "      <td>3</td>\n",
       "      <td>Dallas, TX</td>\n",
       "      <td>1</td>\n",
       "      <td>2</td>\n",
       "      <td>3</td>\n",
       "      <td>0</td>\n",
       "      <td>1</td>\n",
       "    </tr>\n",
       "    <tr>\n",
       "      <th>5</th>\n",
       "      <td>5</td>\n",
       "      <td>o</td>\n",
       "      <td>1350</td>\n",
       "      <td>.</td>\n",
       "      <td>91</td>\n",
       "      <td>1</td>\n",
       "      <td>.</td>\n",
       "      <td>1</td>\n",
       "      <td>2</td>\n",
       "      <td>3</td>\n",
       "      <td>.</td>\n",
       "      <td>1</td>\n",
       "    </tr>\n",
       "    <tr>\n",
       "      <th>6</th>\n",
       "      <td>5</td>\n",
       "      <td>o</td>\n",
       "      <td>1360</td>\n",
       "      <td>.</td>\n",
       "      <td>{illegible}</td>\n",
       "      <td>1</td>\n",
       "      <td>.</td>\n",
       "      <td>1</td>\n",
       "      <td>1</td>\n",
       "      <td>3</td>\n",
       "      <td>0</td>\n",
       "      <td>1</td>\n",
       "    </tr>\n",
       "    <tr>\n",
       "      <th>7</th>\n",
       "      <td>5</td>\n",
       "      <td>o</td>\n",
       "      <td>1370</td>\n",
       "      <td>a</td>\n",
       "      <td>nan</td>\n",
       "      <td>nan</td>\n",
       "      <td>nan</td>\n",
       "      <td>nan</td>\n",
       "      <td>nan</td>\n",
       "      <td>nan</td>\n",
       "      <td>nan</td>\n",
       "      <td>1</td>\n",
       "    </tr>\n",
       "    <tr>\n",
       "      <th>8</th>\n",
       "      <td>5</td>\n",
       "      <td>o</td>\n",
       "      <td>1380</td>\n",
       "      <td>.</td>\n",
       "      <td>78</td>\n",
       "      <td>1</td>\n",
       "      <td>.</td>\n",
       "      <td>2</td>\n",
       "      <td>1</td>\n",
       "      <td>2</td>\n",
       "      <td>9</td>\n",
       "      <td>1</td>\n",
       "    </tr>\n",
       "    <tr>\n",
       "      <th>9</th>\n",
       "      <td>5</td>\n",
       "      <td>o</td>\n",
       "      <td>1400</td>\n",
       "      <td>a</td>\n",
       "      <td>nan</td>\n",
       "      <td>nan</td>\n",
       "      <td>nan</td>\n",
       "      <td>nan</td>\n",
       "      <td>nan</td>\n",
       "      <td>nan</td>\n",
       "      <td>nan</td>\n",
       "      <td>1</td>\n",
       "    </tr>\n",
       "  </tbody>\n",
       "</table>\n",
       "</div>"
      ],
      "text/plain": [
       "   Shift Lane Clicker Veto           X1  X2a            X2b   X3   X4  X5a  \\\n",
       "0      5    o    1280    .           82    2        Oakland    2    1    2   \n",
       "1      5    o    1300    .           66    2  Castro Valley    2    1    2   \n",
       "2      5    o    1310    .            .    2              .    2    1    1   \n",
       "3      5    o    1330    .           84    1              .    1    1    2   \n",
       "4      5    o    1340    .           88    3     Dallas, TX    1    2    3   \n",
       "5      5    o    1350    .           91    1              .    1    2    3   \n",
       "6      5    o    1360    .  {illegible}    1              .    1    1    3   \n",
       "7      5    o    1370    a          nan  nan            nan  nan  nan  nan   \n",
       "8      5    o    1380    .           78    1              .    2    1    2   \n",
       "9      5    o    1400    a          nan  nan            nan  nan  nan  nan   \n",
       "\n",
       "   X5b  DataEntryPerson  \n",
       "0    9                1  \n",
       "1   10                1  \n",
       "2    1                1  \n",
       "3    9                1  \n",
       "4    0                1  \n",
       "5    .                1  \n",
       "6    0                1  \n",
       "7  nan                1  \n",
       "8    9                1  \n",
       "9  nan                1  "
      ]
     },
     "execution_count": 6,
     "metadata": {},
     "output_type": "execute_result"
    }
   ],
   "source": [
    "rawData.head(10)"
   ]
  },
  {
   "cell_type": "markdown",
   "metadata": {},
   "source": [
    "## Cleaning data"
   ]
  },
  {
   "cell_type": "code",
   "execution_count": 7,
   "metadata": {},
   "outputs": [],
   "source": [
    "# Debug for data cleaning\n",
    "#rawData['X1'].str.contains('NaN') == False\n",
    "#for a in rawData['Clicker']:\n",
    "#    print(type(a).__name__)\n",
    "#    if type(a).__name__.find('ndarray') >= 0:\n",
    "#        print('Error fo Clikcer entry: \"%s\", type=%s' %(a,type(a).__name__))\n",
    "#rawData.loc[rawData['X2a']==1,'X2b'].astype('category').cat.categories.tolist()"
   ]
  },
  {
   "cell_type": "code",
   "execution_count": 8,
   "metadata": {},
   "outputs": [],
   "source": [
    "# Simple cleanings\n",
    "LaneCleaning = {'0':'o', 'O':'o', 'B':'b','.':''}\n",
    "VetoCleaning = {'67':'', ',':'', ',':'', 'sa':'a', 's (counted by accident)':'s', 'A':'a','c':'c','S':'s'}\n",
    "ClickerCleaning = {'740(a)':'740', '740(b)':'741', 'NaN':'-1', 'nan':'-1', '': '-1'}\n",
    "numbersCleanings={'':'-1','.':'-1','nan':'-1'}\n",
    "X1Cleaning = {'889':'89', '1.21':'1','':'-1', '{illegible}':'-1'}\n",
    "X2aCleaning = {'21':'2', '32':'2', '34':'3','41':'2','42':'2'}\n",
    "X3Cleaning = {'13':'3','23':'3'}\n",
    "X4Cleaning = {}\n",
    "X5bCleaning = {'.':'-1','nan':-1, 'No':'0', '1 decomp': '-1', '0, I\\'m a professor!':'0', '{0 or 2}':'0','{9?}':'9', '2010':'1','6 or 7':'6', 'NA':'-1', 'infinity': '-1', 'Second year':'2','the years before it got so absurdly expensive and full of capitalistic ass holes':'-1'}\n",
    "rawData['Veto'].replace(VetoCleaning,inplace=True)\n",
    "rawData['Lane'].replace(LaneCleaning,inplace=True)\n",
    "rawData['Clicker'].replace(ClickerCleaning,inplace=True)\n",
    "rawData['X1'].replace({**numbersCleanings, **X1Cleaning},inplace=True)\n",
    "rawData['X2a'].replace({**numbersCleanings, **X2aCleaning},inplace=True)\n",
    "rawData['X3'].replace({**numbersCleanings, **X3Cleaning},inplace=True)\n",
    "rawData['X4'].replace({**numbersCleanings, **X4Cleaning},inplace=True)\n",
    "rawData['X5a'].replace(numbersCleanings,inplace=True)\n",
    "rawData['X5b'].replace({**numbersCleanings, **X5bCleaning},inplace=True)"
   ]
  },
  {
   "cell_type": "code",
   "execution_count": 9,
   "metadata": {},
   "outputs": [],
   "source": [
    "#uniform city names\n",
    "rawData.loc[rawData.X2a == '1', 'X2b'] = 'San Francisco'\n",
    "X2bCleaning={}\n",
    "X2bCleaning['(illegible)'] = ''\n",
    "X2bCleaning[',']=''\n",
    "X2bCleaning['.']=''\n",
    "X2bCleaning['1']=''\n",
    "X2bCleaning['[illegible]']=''\n",
    "X2bCleaning['nan']=''\n",
    "X2bCleaning['Oakland; Houston, TX']='Oakland'\n",
    "X2bCleaning['{Monterrey?}']='Monterey'\n",
    "X2bCleaning['digital nomad']=''\n",
    "X2bCleaning['Vancouver']='Vancouver, Canada'\n",
    "X2bCleaning['Utah, Tooele']='Tooele, Utah'\n",
    "X2bCleaning['South San Francisdo']='South San Francisco'\n",
    "X2bCleaning['Sonoma Cty CA Sebastopol']='Sonoma'\n",
    "X2bCleaning['Reno']='Reno, NV'\n",
    "X2bCleaning['Portland']='Portland, OR'\n",
    "X2bCleaning['NYC']='NYC, NY'\n",
    "X2bCleaning['NY']='NYC, NY'\n",
    "X2bCleaning['LA']='Los Angeles'\n",
    "X2bCleaning['Seattle']='Seattle, WA'\n",
    "X2bCleaning['Loa Altos Hills']='Los Altos Hills'\n",
    "X2bCleaning['CA+HI']='CA'\n",
    "X2bCleaning['Auburn, CA']='Auburn'\n",
    "X2bCleaning['Austin']='Austin, TX'\n",
    "#X2bCleaning['']=''\n",
    "rawData['X2b'].replace(X2bCleaning,inplace=True)"
   ]
  },
  {
   "cell_type": "code",
   "execution_count": 10,
   "metadata": {},
   "outputs": [
    {
     "name": "stdout",
     "output_type": "stream",
     "text": [
      "Adjusting Shift to <class 'numpy.int8'>\n",
      "Adjusting Lane to <class 'str'>\n",
      "Adjusting Clicker to <class 'numpy.int32'>\n",
      "Adjusting Veto to <class 'str'>\n",
      "Adjusting X1 to <class 'numpy.int8'>\n",
      "Adjusting X2a to <class 'numpy.int8'>\n",
      "Adjusting X2b to category\n",
      "Adjusting X3 to <class 'numpy.int8'>\n",
      "Adjusting X4 to <class 'numpy.int8'>\n",
      "Adjusting X5a to <class 'numpy.int8'>\n",
      "Adjusting X5b to <class 'numpy.int8'>\n",
      "Adjusting DataEntryPerson to <class 'numpy.int8'>\n"
     ]
    }
   ],
   "source": [
    "#adjust data-type\n",
    "dataTypes={'Shift':np.int8, 'Lane':str, 'Clicker':np.int32, 'Veto':str, 'X1':np.int8, 'X2a':np.int8, 'X2b':'category', 'X3':np.int8, 'X4':np.int8, 'X5a':np.int8, 'X5b':np.int8, 'DataEntryPerson':np.int8}\n",
    "for col in dataTypes:\n",
    "    print(\"Adjusting %s to %s\" % (col, str(dataTypes[col])))\n",
    "    rawData[col] = rawData[col].astype(dataTypes[col])\n",
    "#show results\n",
    "#rawData.dtypes "
   ]
  },
  {
   "cell_type": "markdown",
   "metadata": {},
   "source": [
    "## Weighing of data"
   ]
  },
  {
   "cell_type": "code",
   "execution_count": 11,
   "metadata": {
    "scrolled": true
   },
   "outputs": [
    {
     "data": {
      "text/html": [
       "<div>\n",
       "<style scoped>\n",
       "    .dataframe tbody tr th:only-of-type {\n",
       "        vertical-align: middle;\n",
       "    }\n",
       "\n",
       "    .dataframe tbody tr th {\n",
       "        vertical-align: top;\n",
       "    }\n",
       "\n",
       "    .dataframe thead th {\n",
       "        text-align: right;\n",
       "    }\n",
       "</style>\n",
       "<table border=\"1\" class=\"dataframe\">\n",
       "  <thead>\n",
       "    <tr style=\"text-align: right;\">\n",
       "      <th></th>\n",
       "      <th></th>\n",
       "      <th>Training</th>\n",
       "      <th>Skip</th>\n",
       "      <th>Clicker</th>\n",
       "      <th>Total</th>\n",
       "    </tr>\n",
       "    <tr>\n",
       "      <th>Shift</th>\n",
       "      <th>Lane</th>\n",
       "      <th></th>\n",
       "      <th></th>\n",
       "      <th></th>\n",
       "      <th></th>\n",
       "    </tr>\n",
       "  </thead>\n",
       "  <tbody>\n",
       "    <tr>\n",
       "      <th>1</th>\n",
       "      <th>s</th>\n",
       "      <td>0</td>\n",
       "      <td>4</td>\n",
       "      <td>186</td>\n",
       "      <td>190</td>\n",
       "    </tr>\n",
       "    <tr>\n",
       "      <th rowspan=\"2\" valign=\"top\">2</th>\n",
       "      <th>b</th>\n",
       "      <td>18</td>\n",
       "      <td>4</td>\n",
       "      <td>1424</td>\n",
       "      <td>1446</td>\n",
       "    </tr>\n",
       "    <tr>\n",
       "      <th>o</th>\n",
       "      <td>0</td>\n",
       "      <td>9</td>\n",
       "      <td>1033</td>\n",
       "      <td>1042</td>\n",
       "    </tr>\n",
       "    <tr>\n",
       "      <th rowspan=\"3\" valign=\"top\">5</th>\n",
       "      <th>b</th>\n",
       "      <td>160</td>\n",
       "      <td>5</td>\n",
       "      <td>1476</td>\n",
       "      <td>1641</td>\n",
       "    </tr>\n",
       "    <tr>\n",
       "      <th>o</th>\n",
       "      <td>160</td>\n",
       "      <td>1</td>\n",
       "      <td>1870</td>\n",
       "      <td>2031</td>\n",
       "    </tr>\n",
       "    <tr>\n",
       "      <th>g</th>\n",
       "      <td>0</td>\n",
       "      <td>0</td>\n",
       "      <td>953</td>\n",
       "      <td>953</td>\n",
       "    </tr>\n",
       "    <tr>\n",
       "      <th rowspan=\"2\" valign=\"top\">8</th>\n",
       "      <th>b</th>\n",
       "      <td>200</td>\n",
       "      <td>2</td>\n",
       "      <td>1040</td>\n",
       "      <td>1242</td>\n",
       "    </tr>\n",
       "    <tr>\n",
       "      <th>o</th>\n",
       "      <td>207</td>\n",
       "      <td>3</td>\n",
       "      <td>1525</td>\n",
       "      <td>1735</td>\n",
       "    </tr>\n",
       "  </tbody>\n",
       "</table>\n",
       "</div>"
      ],
      "text/plain": [
       "            Training  Skip  Clicker  Total\n",
       "Shift Lane                                \n",
       "1     s            0     4      186    190\n",
       "2     b           18     4     1424   1446\n",
       "      o            0     9     1033   1042\n",
       "5     b          160     5     1476   1641\n",
       "      o          160     1     1870   2031\n",
       "      g            0     0      953    953\n",
       "8     b          200     2     1040   1242\n",
       "      o          207     3     1525   1735"
      ]
     },
     "execution_count": 11,
     "metadata": {},
     "output_type": "execute_result"
    }
   ],
   "source": [
    "totalClikers=pd.read_csv(\"data/total_counts.csv\")\n",
    "totalClikers['Total'] = totalClikers.iloc[:,2:5].sum(axis=1)\n",
    "totalClikers.set_index(['Shift','Lane'],inplace=True)\n",
    "totalClikers"
   ]
  },
  {
   "cell_type": "code",
   "execution_count": 12,
   "metadata": {},
   "outputs": [
    {
     "data": {
      "text/plain": [
       "Shift  Lane\n",
       "1      s        18\n",
       "2      b         1\n",
       "       o        86\n",
       "5      b       143\n",
       "       g        85\n",
       "       o       131\n",
       "8      b        93\n",
       "       o       121\n",
       "Name: Veto, dtype: int64"
      ]
     },
     "execution_count": 12,
     "metadata": {},
     "output_type": "execute_result"
    }
   ],
   "source": [
    "populationBySL = rawData.groupby(['Shift','Lane']).Veto.count()\n",
    "populationBySL"
   ]
  },
  {
   "cell_type": "markdown",
   "metadata": {},
   "source": [
    "### Veto fraction"
   ]
  },
  {
   "cell_type": "code",
   "execution_count": 13,
   "metadata": {},
   "outputs": [
    {
     "data": {
      "text/plain": [
       "Shift  Lane\n",
       "1      s        3\n",
       "2      o        6\n",
       "5      b        9\n",
       "       g        7\n",
       "       o       18\n",
       "8      b        1\n",
       "       o       13\n",
       "Name: Veto, dtype: int64"
      ]
     },
     "execution_count": 13,
     "metadata": {},
     "output_type": "execute_result"
    }
   ],
   "source": [
    "#calculate correction factors  for un-even distribution of vetos; will be stored as weightVetos\n",
    "isVeto = rawData.Veto.isin(['a','s','c'])\n",
    "vetoWeightNum = rawData.loc[isVeto].groupby(['Shift','Lane']).Veto.count()\n",
    "vetoWeightNum"
   ]
  },
  {
   "cell_type": "code",
   "execution_count": 14,
   "metadata": {},
   "outputs": [
    {
     "data": {
      "text/plain": [
       "Shift  Lane\n",
       "1      s       0.166667\n",
       "2      b            NaN\n",
       "       o       0.069767\n",
       "5      b       0.062937\n",
       "       g       0.082353\n",
       "       o       0.137405\n",
       "8      b       0.010753\n",
       "       o       0.107438\n",
       "Name: Veto, dtype: float64"
      ]
     },
     "execution_count": 14,
     "metadata": {},
     "output_type": "execute_result"
    }
   ],
   "source": [
    "vetoFractions = vetoWeightNum / populationBySL\n",
    "vetoFractions"
   ]
  },
  {
   "cell_type": "code",
   "execution_count": 15,
   "metadata": {
    "scrolled": true
   },
   "outputs": [
    {
     "data": {
      "text/plain": [
       "Shift  Lane\n",
       "1      s       1.200000\n",
       "2      b       1.000000\n",
       "       o       1.075000\n",
       "5      b       1.067164\n",
       "       g       1.089744\n",
       "       o       1.159292\n",
       "8      b       1.010870\n",
       "       o       1.120370\n",
       "Name: Veto, dtype: float64"
      ]
     },
     "execution_count": 15,
     "metadata": {},
     "output_type": "execute_result"
    }
   ],
   "source": [
    "weightVetos = 1.0 / (1.0 - vetoFractions)\n",
    "weightVetos.fillna(1.0, inplace=True) #usually means no veto found\n",
    "rawData['weightVetos'] = [weightVetos.loc[i,j] for i,j in zip(rawData['Shift'],rawData['Lane'])]\n",
    "rawData.loc[isVeto, 'weightVetos'] = 0.0 #put to zero weight of veto entries\n",
    "weightVetos"
   ]
  },
  {
   "cell_type": "markdown",
   "metadata": {},
   "source": [
    "### Sampling fraction"
   ]
  },
  {
   "cell_type": "code",
   "execution_count": 16,
   "metadata": {
    "scrolled": false
   },
   "outputs": [
    {
     "data": {
      "image/png": "[encoded data removed]",
      "text/plain": [
       "<matplotlib.figure.Figure at 0x7f8121ce5748>"
      ]
     },
     "metadata": {},
     "output_type": "display_data"
    }
   ],
   "source": [
    "# check distribution of clickers counts, by Lane and Shift\n",
    "#rawData.query(\"Shift == 1 & Lane == 's'\").Clicker.diff()\n",
    "for i in np.arange(0, len(populationBySL.index.labels[0])):\n",
    "    idx1 = populationBySL.index.labels[0][i]\n",
    "    idx2 = populationBySL.index.labels[1][i]\n",
    "    l1 = populationBySL.index.levels[0][idx1]\n",
    "    l2 = populationBySL.index.levels[1][idx2]\n",
    "    #print(\"%s-%s\" % (l1, l2))\n",
    "    plt.hist(rawData.query(\"Shift == %s & Lane == '%s'\" % (l1, l2)).Clicker.diff().fillna(-1.0),range=(-10, 40), label=\"%s-%s\"%(l1,l2),alpha=0.5)\n",
    "plt.legend()\n",
    "plt.show()"
   ]
  },
  {
   "cell_type": "code",
   "execution_count": 17,
   "metadata": {},
   "outputs": [
    {
     "data": {
      "text/plain": [
       "(array([ 0.,  0.,  0.,  0.,  0.,  0.,  0.,  0.,  0.,  1.,  0.,  0.,  0.,\n",
       "         0.,  0.,  0.,  0.,  0.,  0.,  0., 91.,  0.,  0.,  0.,  0.,  0.,\n",
       "         0.,  0.,  0.,  0., 20.,  0.,  0.,  0.,  0.,  0.,  0.,  0.,  0.,\n",
       "         0.,  6.,  0.,  0.,  0.,  0.,  0.,  0.,  0.,  0.]),\n",
       " array([-10,  -9,  -8,  -7,  -6,  -5,  -4,  -3,  -2,  -1,   0,   1,   2,\n",
       "          3,   4,   5,   6,   7,   8,   9,  10,  11,  12,  13,  14,  15,\n",
       "         16,  17,  18,  19,  20,  21,  22,  23,  24,  25,  26,  27,  28,\n",
       "         29,  30,  31,  32,  33,  34,  35,  36,  37,  38,  39]),\n",
       " <a list of 49 Patch objects>)"
      ]
     },
     "execution_count": 17,
     "metadata": {},
     "output_type": "execute_result"
    },
    {
     "data": {
      "image/png": "[encoded data removed]",
      "text/plain": [
       "<matplotlib.figure.Figure at 0x7f8121cd1cf8>"
      ]
     },
     "metadata": {},
     "output_type": "display_data"
    }
   ],
   "source": [
    "plt.hist(rawData.query(\"Shift == 8 & Lane == 'o'\").Clicker.diff().fillna(-1.0),range(-10,40))"
   ]
  },
  {
   "cell_type": "code",
   "execution_count": 18,
   "metadata": {},
   "outputs": [
    {
     "data": {
      "text/plain": [
       "Shift  Lane\n",
       "1      s       0.094737\n",
       "2      b       0.000692\n",
       "       o       0.082534\n",
       "5      b       0.087142\n",
       "       g       0.089192\n",
       "       o       0.064500\n",
       "8      b       0.074879\n",
       "       o       0.069741\n",
       "dtype: float64"
      ]
     },
     "execution_count": 18,
     "metadata": {},
     "output_type": "execute_result"
    }
   ],
   "source": [
    "# calculate simple average sampling fraction from total clickers and total data\n",
    "samplingFractions = populationBySL / totalClikers['Total']\n",
    "samplingFractions"
   ]
  },
  {
   "cell_type": "code",
   "execution_count": 19,
   "metadata": {
    "scrolled": false
   },
   "outputs": [
    {
     "data": {
      "text/plain": [
       "Shift  Lane\n",
       "1      s         10.555556\n",
       "2      b       1446.000000\n",
       "       o         12.116279\n",
       "5      b         11.475524\n",
       "       g         11.211765\n",
       "       o         15.503817\n",
       "8      b         13.354839\n",
       "       o         14.338843\n",
       "dtype: float64"
      ]
     },
     "execution_count": 19,
     "metadata": {},
     "output_type": "execute_result"
    }
   ],
   "source": [
    "weightSampling = 1.0 / samplingFractions\n",
    "rawData['weightSampling'] = [weightSampling.loc[i,j] for i,j in zip(rawData['Shift'],rawData['Lane'])]\n",
    "weightSampling"
   ]
  },
  {
   "cell_type": "markdown",
   "metadata": {},
   "source": [
    "### Total weight"
   ]
  },
  {
   "cell_type": "code",
   "execution_count": 20,
   "metadata": {},
   "outputs": [
    {
     "data": {
      "text/html": [
       "<div>\n",
       "<style scoped>\n",
       "    .dataframe tbody tr th:only-of-type {\n",
       "        vertical-align: middle;\n",
       "    }\n",
       "\n",
       "    .dataframe tbody tr th {\n",
       "        vertical-align: top;\n",
       "    }\n",
       "\n",
       "    .dataframe thead th {\n",
       "        text-align: right;\n",
       "    }\n",
       "</style>\n",
       "<table border=\"1\" class=\"dataframe\">\n",
       "  <thead>\n",
       "    <tr style=\"text-align: right;\">\n",
       "      <th></th>\n",
       "      <th>Shift</th>\n",
       "      <th>Lane</th>\n",
       "      <th>Clicker</th>\n",
       "      <th>Veto</th>\n",
       "      <th>X1</th>\n",
       "      <th>X2a</th>\n",
       "      <th>X2b</th>\n",
       "      <th>X3</th>\n",
       "      <th>X4</th>\n",
       "      <th>X5a</th>\n",
       "      <th>X5b</th>\n",
       "      <th>DataEntryPerson</th>\n",
       "      <th>weightVetos</th>\n",
       "      <th>weightSampling</th>\n",
       "      <th>weight</th>\n",
       "    </tr>\n",
       "  </thead>\n",
       "  <tbody>\n",
       "    <tr>\n",
       "      <th>0</th>\n",
       "      <td>5</td>\n",
       "      <td>o</td>\n",
       "      <td>1280</td>\n",
       "      <td>.</td>\n",
       "      <td>82</td>\n",
       "      <td>2</td>\n",
       "      <td>Oakland</td>\n",
       "      <td>2</td>\n",
       "      <td>1</td>\n",
       "      <td>2</td>\n",
       "      <td>9</td>\n",
       "      <td>1</td>\n",
       "      <td>1.159292</td>\n",
       "      <td>15.503817</td>\n",
       "      <td>17.973451</td>\n",
       "    </tr>\n",
       "    <tr>\n",
       "      <th>1</th>\n",
       "      <td>5</td>\n",
       "      <td>o</td>\n",
       "      <td>1300</td>\n",
       "      <td>.</td>\n",
       "      <td>66</td>\n",
       "      <td>2</td>\n",
       "      <td>Castro Valley</td>\n",
       "      <td>2</td>\n",
       "      <td>1</td>\n",
       "      <td>2</td>\n",
       "      <td>10</td>\n",
       "      <td>1</td>\n",
       "      <td>1.159292</td>\n",
       "      <td>15.503817</td>\n",
       "      <td>17.973451</td>\n",
       "    </tr>\n",
       "    <tr>\n",
       "      <th>2</th>\n",
       "      <td>5</td>\n",
       "      <td>o</td>\n",
       "      <td>1310</td>\n",
       "      <td>.</td>\n",
       "      <td>-1</td>\n",
       "      <td>2</td>\n",
       "      <td></td>\n",
       "      <td>2</td>\n",
       "      <td>1</td>\n",
       "      <td>1</td>\n",
       "      <td>1</td>\n",
       "      <td>1</td>\n",
       "      <td>1.159292</td>\n",
       "      <td>15.503817</td>\n",
       "      <td>17.973451</td>\n",
       "    </tr>\n",
       "    <tr>\n",
       "      <th>3</th>\n",
       "      <td>5</td>\n",
       "      <td>o</td>\n",
       "      <td>1330</td>\n",
       "      <td>.</td>\n",
       "      <td>84</td>\n",
       "      <td>1</td>\n",
       "      <td>San Francisco</td>\n",
       "      <td>1</td>\n",
       "      <td>1</td>\n",
       "      <td>2</td>\n",
       "      <td>9</td>\n",
       "      <td>1</td>\n",
       "      <td>1.159292</td>\n",
       "      <td>15.503817</td>\n",
       "      <td>17.973451</td>\n",
       "    </tr>\n",
       "    <tr>\n",
       "      <th>4</th>\n",
       "      <td>5</td>\n",
       "      <td>o</td>\n",
       "      <td>1340</td>\n",
       "      <td>.</td>\n",
       "      <td>88</td>\n",
       "      <td>3</td>\n",
       "      <td>Dallas, TX</td>\n",
       "      <td>1</td>\n",
       "      <td>2</td>\n",
       "      <td>3</td>\n",
       "      <td>0</td>\n",
       "      <td>1</td>\n",
       "      <td>1.159292</td>\n",
       "      <td>15.503817</td>\n",
       "      <td>17.973451</td>\n",
       "    </tr>\n",
       "  </tbody>\n",
       "</table>\n",
       "</div>"
      ],
      "text/plain": [
       "   Shift Lane  Clicker Veto  X1  X2a            X2b  X3  X4  X5a  X5b  \\\n",
       "0      5    o     1280    .  82    2        Oakland   2   1    2    9   \n",
       "1      5    o     1300    .  66    2  Castro Valley   2   1    2   10   \n",
       "2      5    o     1310    .  -1    2                  2   1    1    1   \n",
       "3      5    o     1330    .  84    1  San Francisco   1   1    2    9   \n",
       "4      5    o     1340    .  88    3     Dallas, TX   1   2    3    0   \n",
       "\n",
       "   DataEntryPerson  weightVetos  weightSampling     weight  \n",
       "0                1     1.159292       15.503817  17.973451  \n",
       "1                1     1.159292       15.503817  17.973451  \n",
       "2                1     1.159292       15.503817  17.973451  \n",
       "3                1     1.159292       15.503817  17.973451  \n",
       "4                1     1.159292       15.503817  17.973451  "
      ]
     },
     "execution_count": 20,
     "metadata": {},
     "output_type": "execute_result"
    }
   ],
   "source": [
    "rawData['weight'] = rawData['weightVetos'] * rawData['weightSampling']\n",
    "rawData.head()"
   ]
  },
  {
   "cell_type": "markdown",
   "metadata": {},
   "source": [
    "## Calculate basic statistics"
   ]
  },
  {
   "cell_type": "code",
   "execution_count": 21,
   "metadata": {},
   "outputs": [],
   "source": [
    "isStaff = rawData.Lane.isin(['s'])\n",
    "totWeights = rawData['weight'].sum() \n",
    "totEntries = len(rawData)\n",
    "isX1Valid = (rawData.X1 > 0) & (~isVeto)\n",
    "isX2aValid = (rawData.X2a > 0) & (rawData.X2a <= 4) & (~isVeto)\n",
    "isX2bValid = (rawData['X2b'].apply(len) > 0) & (~isVeto)\n",
    "isX3Valid = (rawData.X3 > 0) & (rawData.X3 <= 3) & (~isVeto)\n",
    "isX4Valid = (rawData.X4 > 0) & (rawData.X4 <= 2) & (~isVeto)\n",
    "isX5aValid = (rawData.X5a > 0) & (rawData.X5a <= 3) & (~isVeto)\n",
    "isX5bValid = (rawData.X5b >= 0) | (rawData.X5a == 3) & (~isVeto)"
   ]
  },
  {
   "cell_type": "code",
   "execution_count": 22,
   "metadata": {},
   "outputs": [],
   "source": [
    "currentYear = 18\n",
    "rawData['Age'] = [ -1 if y == -1 else currentYear+100-y if y > currentYear else currentYear - y for y in rawData['X1']]"
   ]
  },
  {
   "cell_type": "code",
   "execution_count": 23,
   "metadata": {
    "scrolled": false
   },
   "outputs": [],
   "source": [
    "#DEBUG invalid entries to check\n",
    "#rawData.loc[~isX4Valid & isX2aValid] #People who decided to not tell where they live\n",
    "#rawData.loc[~isX1Valid]\n",
    "#rawData['X2a'].astype('category').cat.categories\n",
    "#list(rawData.groupby('X2a').agg({'weight':'sum'})['weight'].keys())"
   ]
  },
  {
   "cell_type": "code",
   "execution_count": 24,
   "metadata": {},
   "outputs": [
    {
     "data": {
      "text/plain": [
       "15.162241887905607"
      ]
     },
     "execution_count": 24,
     "metadata": {},
     "output_type": "execute_result"
    }
   ],
   "source": [
    "# Average weight\n",
    "totWeights / totEntries"
   ]
  },
  {
   "cell_type": "code",
   "execution_count": 25,
   "metadata": {},
   "outputs": [
    {
     "name": "stdout",
     "output_type": "stream",
     "text": [
      "Total number of weighted (raw) entries: 10280 (678)\n",
      "-- Staff: 190.0 (18) -> 1.8% (2.7%)\n",
      "-- Vetos: 57 -> 8.4%\n",
      "Fraction of invalid answers (excluding vetos):\n",
      "-- 1: 49 (7.2%)\n",
      "-- 2a: 8 (1.2%)\n",
      "-- 2b: 37 (5.5%)\n",
      "-- 3: 5 (0.7%)\n",
      "-- 4: 6 (0.9%)\n",
      "-- 5a: 11 (1.6%)\n",
      "-- 5b: 29 (4.3%)\n"
     ]
    }
   ],
   "source": [
    "print(\"Total number of weighted (raw) entries: %d (%d)\" % (rawData['weight'].sum(),len(rawData)))\n",
    "print(\"-- Staff: %.1f (%d) -> %.1f%% (%.1f%%)\" % (rawData.loc[isStaff, 'weight'].sum(), len(rawData.loc[isStaff]), rawData.loc[isStaff, 'weight'].sum()*100.0 / totWeights, len(rawData.loc[isStaff])*100.0 / totEntries))\n",
    "print(\"-- Vetos: %d -> %.1f%%\" % (len(rawData.loc[isVeto]), len(rawData.loc[isVeto])*100.0/totEntries))\n",
    "print(\"Fraction of invalid answers (excluding vetos):\")\n",
    "print(\"-- 1: %d (%.1f%%)\" % (len(rawData.loc[~isX1Valid & ~isVeto]), len(rawData.loc[~isX1Valid & ~isVeto])*100./totEntries))\n",
    "print(\"-- 2a: %d (%.1f%%)\" % (len(rawData.loc[~isX2aValid & ~isVeto]), len(rawData.loc[~isX2aValid & ~isVeto])*100./totEntries))\n",
    "print(\"-- 2b: %d (%.1f%%)\" % (len(rawData.loc[~isX2bValid & ~isVeto]), len(rawData.loc[~isX2bValid & ~isVeto])*100./totEntries))\n",
    "print(\"-- 3: %d (%.1f%%)\" % (len(rawData.loc[~isX3Valid & ~isVeto]), len(rawData.loc[~isX3Valid & ~isVeto])*100./totEntries))\n",
    "print(\"-- 4: %d (%.1f%%)\" % (len(rawData.loc[~isX4Valid & ~isVeto]), len(rawData.loc[~isX4Valid & ~isVeto])*100./totEntries))\n",
    "print(\"-- 5a: %d (%.1f%%)\" % (len(rawData.loc[~isX5aValid & ~isVeto]), len(rawData.loc[~isX5aValid & ~isVeto])*100./totEntries))\n",
    "print(\"-- 5b: %d (%.1f%%)\" % (len(rawData.loc[~isX5bValid & ~isVeto]), len(rawData.loc[~isX5bValid & ~isVeto])*100./totEntries))"
   ]
  },
  {
   "cell_type": "markdown",
   "metadata": {},
   "source": [
    "## Plot univariate distributions"
   ]
  },
  {
   "cell_type": "code",
   "execution_count": 26,
   "metadata": {},
   "outputs": [
    {
     "data": {
      "image/png": "[encoded data removed]",
      "text/plain": [
       "<matplotlib.figure.Figure at 0x7f80f8999780>"
      ]
     },
     "metadata": {},
     "output_type": "display_data"
    }
   ],
   "source": [
    "#Check effect of weights using Age distribution\n",
    "binsAge = np.linspace(0, 80, 16)\n",
    "plt.hist(rawData.loc[isX1Valid, 'Age'], binsAge, density=True, alpha=0.5, label='raw')\n",
    "plt.hist(rawData.loc[isX1Valid, 'Age'], binsAge, density=True, weights=rawData.loc[isX1Valid, 'weight'], alpha=0.5, label='weighed')\n",
    "plt.legend(loc='upper right')\n",
    "plt.title('Age distribution')\n",
    "plt.show()"
   ]
  },
  {
   "cell_type": "code",
   "execution_count": 27,
   "metadata": {},
   "outputs": [
    {
     "data": {
      "text/plain": [
       "Text(0.5,1,'Age distribution')"
      ]
     },
     "execution_count": 27,
     "metadata": {},
     "output_type": "execute_result"
    },
    {
     "data": {
      "image/png": "[encoded data removed]",
      "text/plain": [
       "<matplotlib.figure.Figure at 0x7f8120afe8d0>"
      ]
     },
     "metadata": {},
     "output_type": "display_data"
    }
   ],
   "source": [
    "rawData.loc[isX1Valid, 'Age'].plot.hist(density=True,weights=rawData.loc[isX1Valid,'weight'])\n",
    "plt.title('Age distribution')"
   ]
  },
  {
   "cell_type": "code",
   "execution_count": 28,
   "metadata": {},
   "outputs": [],
   "source": [
    "#Utility function for categorical plotting\n",
    "# df: DF where input data is\n",
    "# col: column name to plot\n",
    "# weight: column where weight is stored, if any\n",
    "# density: normalize to unit area\n",
    "# percent: if density==True, use an area of 100 for normalization\n",
    "# **kwargs: other keyworded arguments for plotting function\n",
    "def plotCatQ(df, col, weight='', density=True, percent=True, title='', xlabels=[], plotBarFcn=plt.bar, **kwargs):\n",
    "    if weight != '':\n",
    "        newDF = df.groupby(col).agg({weight:'sum'})[weight]\n",
    "    else:\n",
    "        newDF = df.loc[:,col].value_counts()\n",
    "    ylabel=\"Frequency\"\n",
    "    if density:\n",
    "        newDF = newDF / newDF.sum()\n",
    "        ylabel=\"Density\"\n",
    "        if (percent):\n",
    "            newDF = newDF * 100.0\n",
    "            ylabel=\"Density (%)\"\n",
    "    names = list(newDF.keys())\n",
    "    values = list(newDF.values)\n",
    "    plotBarFcn(names,values, **kwargs)\n",
    "    if (len(xlabels) > 0):\n",
    "        plt.xticks(np.arange(1,len(xlabels)+1,1.0),  xlabels)\n",
    "    if (len(title) > 0):\n",
    "        plt.title(title)\n",
    "    plt.ylabel(ylabel)"
   ]
  },
  {
   "cell_type": "code",
   "execution_count": 29,
   "metadata": {},
   "outputs": [
    {
     "data": {
      "text/plain": [
       "Text(0.5,1,'Residence')"
      ]
     },
     "execution_count": 29,
     "metadata": {},
     "output_type": "execute_result"
    },
    {
     "data": {
      "image/png": "[encoded data removed]",
      "text/plain": [
       "<matplotlib.figure.Figure at 0x7f8121ce5160>"
      ]
     },
     "metadata": {},
     "output_type": "display_data"
    }
   ],
   "source": [
    "plotCatQ(rawData.loc[isX2aValid], 'X2a', weight='weight')\n",
    "plt.xticks(np.arange(1,5,1.0),  ['SF', 'CA (not SF)', 'US (not CA)', 'not US'])\n",
    "plt.title('Residence')"
   ]
  },
  {
   "cell_type": "code",
   "execution_count": 30,
   "metadata": {},
   "outputs": [
    {
     "data": {
      "image/png": "[encoded data removed]",
      "text/plain": [
       "<matplotlib.figure.Figure at 0x7f8121f7b908>"
      ]
     },
     "metadata": {},
     "output_type": "display_data"
    }
   ],
   "source": [
    "vals = rawData.loc[isX2bValid,'X2b'].value_counts()[0:10]\n",
    "vals = vals * 100.0 / vals.sum()\n",
    "vals.plot.bar()\n",
    "plt.title(\"Residence details\")\n",
    "plt.ylabel(\"Density (%)\")\n",
    "plt.show()"
   ]
  },
  {
   "cell_type": "code",
   "execution_count": 31,
   "metadata": {},
   "outputs": [
    {
     "data": {
      "image/png": "[encoded data removed]",
      "text/plain": [
       "<matplotlib.figure.Figure at 0x7f81208aa710>"
      ]
     },
     "metadata": {},
     "output_type": "display_data"
    },
    {
     "data": {
      "image/png": "[encoded data removed]",
      "text/plain": [
       "<matplotlib.figure.Figure at 0x7f8120879860>"
      ]
     },
     "metadata": {},
     "output_type": "display_data"
    },
    {
     "data": {
      "image/png": "[encoded data removed]",
      "text/plain": [
       "<matplotlib.figure.Figure at 0x7f81209cd518>"
      ]
     },
     "metadata": {},
     "output_type": "display_data"
    }
   ],
   "source": [
    "titles=[\"Top 10 Residence details (not SF)\", \"Top 10 Residence details (not CA)\", \"Top 10 Residence details (not US)\"]\n",
    "for i in [2,3,4]:\n",
    "    vals = rawData.loc[isX2bValid & (rawData.X2a == i),'X2b'].value_counts()[0:10]\n",
    "    vals.plot.bar()\n",
    "    plt.title(titles[i-2])\n",
    "    plt.ylabel(\"Density (%) relative to this pop.\")\n",
    "    plt.show()"
   ]
  },
  {
   "cell_type": "code",
   "execution_count": 32,
   "metadata": {},
   "outputs": [
    {
     "data": {
      "image/png": "[encoded data removed]",
      "text/plain": [
       "<matplotlib.figure.Figure at 0x7f8120c0df28>"
      ]
     },
     "metadata": {},
     "output_type": "display_data"
    }
   ],
   "source": [
    "plotCatQ(rawData.loc[isX3Valid], 'X3', weight='weight', title='Gender', xlabels=['Female', 'Male', 'Both/neither/fluid'])"
   ]
  },
  {
   "cell_type": "code",
   "execution_count": 33,
   "metadata": {},
   "outputs": [
    {
     "data": {
      "image/png": "[encoded data removed]",
      "text/plain": [
       "<matplotlib.figure.Figure at 0x7f81209b6c50>"
      ]
     },
     "metadata": {},
     "output_type": "display_data"
    }
   ],
   "source": [
    "plotCatQ(rawData.loc[isX4Valid], 'X4', weight='weight', title='Attended SF Decom before?', xlabels=['Yes','No'])"
   ]
  },
  {
   "cell_type": "code",
   "execution_count": 34,
   "metadata": {},
   "outputs": [
    {
     "data": {
      "image/png": "[encoded data removed]",
      "text/plain": [
       "<matplotlib.figure.Figure at 0x7f8121f6c898>"
      ]
     },
     "metadata": {},
     "output_type": "display_data"
    }
   ],
   "source": [
    "plotCatQ(rawData.loc[isX5aValid], 'X5a', weight='weight', title='Attended BM before?', xlabels=['Yes (incl. 2018)','Yes (not 2018)', 'No'])"
   ]
  },
  {
   "cell_type": "code",
   "execution_count": 35,
   "metadata": {},
   "outputs": [
    {
     "data": {
      "text/plain": [
       "Text(0.5,0,'years')"
      ]
     },
     "execution_count": 35,
     "metadata": {},
     "output_type": "execute_result"
    },
    {
     "data": {
      "image/png": "[encoded data removed]",
      "text/plain": [
       "<matplotlib.figure.Figure at 0x7f81209aaf98>"
      ]
     },
     "metadata": {},
     "output_type": "display_data"
    }
   ],
   "source": [
    "bins = np.arange(0, 25, 1)\n",
    "plt.hist(rawData.loc[isX5bValid, 'X5b'],bins,weights=(rawData.loc[isX5bValid,'weight']*100.0 / rawData.loc[isX5bValid,'weight'].sum()))\n",
    "plt.title(\"Number of prev. BM\")\n",
    "plt.ylabel(\"Density (%)\")\n",
    "plt.xlabel(\"years\")"
   ]
  },
  {
   "cell_type": "markdown",
   "metadata": {},
   "source": [
    "### Plot bi-viariate distributions"
   ]
  },
  {
   "cell_type": "code",
   "execution_count": 36,
   "metadata": {},
   "outputs": [
    {
     "data": {
      "text/html": [
       "<div>\n",
       "<style scoped>\n",
       "    .dataframe tbody tr th:only-of-type {\n",
       "        vertical-align: middle;\n",
       "    }\n",
       "\n",
       "    .dataframe tbody tr th {\n",
       "        vertical-align: top;\n",
       "    }\n",
       "\n",
       "    .dataframe thead th {\n",
       "        text-align: right;\n",
       "    }\n",
       "</style>\n",
       "<table border=\"1\" class=\"dataframe\">\n",
       "  <thead>\n",
       "    <tr style=\"text-align: right;\">\n",
       "      <th></th>\n",
       "      <th></th>\n",
       "      <th>weight</th>\n",
       "      <th>Density(%)</th>\n",
       "    </tr>\n",
       "    <tr>\n",
       "      <th>X4</th>\n",
       "      <th>X5a</th>\n",
       "      <th></th>\n",
       "      <th></th>\n",
       "    </tr>\n",
       "  </thead>\n",
       "  <tbody>\n",
       "    <tr>\n",
       "      <th rowspan=\"3\" valign=\"top\">1</th>\n",
       "      <th>1</th>\n",
       "      <td>3796.505117</td>\n",
       "      <td>37.527985</td>\n",
       "    </tr>\n",
       "    <tr>\n",
       "      <th>2</th>\n",
       "      <td>1010.927187</td>\n",
       "      <td>9.992891</td>\n",
       "    </tr>\n",
       "    <tr>\n",
       "      <th>3</th>\n",
       "      <td>887.159901</td>\n",
       "      <td>8.769466</td>\n",
       "    </tr>\n",
       "    <tr>\n",
       "      <th rowspan=\"3\" valign=\"top\">2</th>\n",
       "      <th>1</th>\n",
       "      <td>1349.689242</td>\n",
       "      <td>13.341512</td>\n",
       "    </tr>\n",
       "    <tr>\n",
       "      <th>2</th>\n",
       "      <td>320.917583</td>\n",
       "      <td>3.172231</td>\n",
       "    </tr>\n",
       "    <tr>\n",
       "      <th>3</th>\n",
       "      <td>2751.265088</td>\n",
       "      <td>27.195916</td>\n",
       "    </tr>\n",
       "  </tbody>\n",
       "</table>\n",
       "</div>"
      ],
      "text/plain": [
       "             weight  Density(%)\n",
       "X4 X5a                         \n",
       "1  1    3796.505117   37.527985\n",
       "   2    1010.927187    9.992891\n",
       "   3     887.159901    8.769466\n",
       "2  1    1349.689242   13.341512\n",
       "   2     320.917583    3.172231\n",
       "   3    2751.265088   27.195916"
      ]
     },
     "execution_count": 36,
     "metadata": {},
     "output_type": "execute_result"
    },
    {
     "data": {
      "image/png": "[encoded data removed]",
      "text/plain": [
       "<matplotlib.figure.Figure at 0x7f80f211c518>"
      ]
     },
     "metadata": {},
     "output_type": "display_data"
    }
   ],
   "source": [
    "xBins=np.arange(0.5,3+0.5,1.0)\n",
    "yBins=np.arange(0.5,4+0.5,1.0)\n",
    "h=plt.hist2d(rawData.loc[isX5aValid & isX4Valid,'X4'], rawData.loc[isX5aValid & isX4Valid,'X5a'], bins=[xBins, yBins], weights=rawData.loc[isX5aValid & isX4Valid,'weight'],normed=True)\n",
    "plt.colorbar(h[3])\n",
    "plt.xticks(np.arange(1,3,1.0),  ['Yes', 'No'])\n",
    "plt.yticks(np.arange(1,4,1.0),  ['Yes (incl. 2018)','Yes (not 2018)', 'No'])\n",
    "plt.xlabel('Attended SF Decom before')\n",
    "plt.ylabel('Attended BM before')\n",
    "outTable = rawData.loc[isX5aValid & isX4Valid].groupby(['X4','X5a']).agg({'weight':'sum'})\n",
    "outTable['Density(%)'] = outTable['weight'] * 100. / outTable['weight'].sum()\n",
    "outTable"
   ]
  }
 ],
 "metadata": {
  "kernelspec": {
   "display_name": "Python 3",
   "language": "python",
   "name": "python3"
  },
  "language_info": {
   "codemirror_mode": {
    "name": "ipython",
    "version": 3
   },
   "file_extension": ".py",
   "mimetype": "text/x-python",
   "name": "python",
   "nbconvert_exporter": "python",
   "pygments_lexer": "ipython3",
   "version": "3.6.7"
  }
 },
 "nbformat": 4,
 "nbformat_minor": 2
}
